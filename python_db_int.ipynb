{
  "nbformat": 4,
  "nbformat_minor": 0,
  "metadata": {
    "colab": {
      "name": "python_db_int.ipynb",
      "version": "0.3.2",
      "provenance": [],
      "collapsed_sections": [],
      "include_colab_link": true
    },
    "kernelspec": {
      "name": "python3",
      "display_name": "Python 3"
    }
  },
  "cells": [
    {
      "cell_type": "markdown",
      "metadata": {
        "id": "view-in-github",
        "colab_type": "text"
      },
      "source": [
        "<a href=\"https://colab.research.google.com/github/ayushm1998/CODING/blob/master/python_db_int.ipynb\" target=\"_parent\"><img src=\"https://colab.research.google.com/assets/colab-badge.svg\" alt=\"Open In Colab\"/></a>"
      ]
    },
    {
      "cell_type": "code",
      "metadata": {
        "id": "8e1Jr_5z8Umr",
        "colab_type": "code",
        "colab": {}
      },
      "source": [
        "!pip3 install mysql-connector-python"
      ],
      "execution_count": 0,
      "outputs": []
    },
    {
      "cell_type": "code",
      "metadata": {
        "id": "lWtXdIFk7q8u",
        "colab_type": "code",
        "colab": {}
      },
      "source": [
        "import mysql.connector as mysql"
      ],
      "execution_count": 0,
      "outputs": []
    },
    {
      "cell_type": "code",
      "metadata": {
        "id": "oajxVtO18T_H",
        "colab_type": "code",
        "colab": {}
      },
      "source": [
        "#RDS info\n",
        "u=' username '\n",
        "p='your password'\n",
        "db=' databse name'\n",
        "h='your host name'"
      ],
      "execution_count": 0,
      "outputs": []
    },
    {
      "cell_type": "code",
      "metadata": {
        "id": "ZCZ7RUF88TaJ",
        "colab_type": "code",
        "colab": {
          "base_uri": "https://localhost:8080/",
          "height": 34
        },
        "outputId": "570053f8-e72e-4026-a105-f981bb66d85f"
      },
      "source": [
        "#now connectng\n",
        "\n",
        "conn=mysql.connect(user=u,password=p,database=db,host=h)\n",
        "\n",
        "#now generating a sql language cursor\n",
        "\n",
        "cur=conn.cursor()\n",
        "\n",
        "#now we can write sql query\n",
        "\n",
        "cur.execute(\"show tables;\")\n",
        "\n",
        "#now printing result\n",
        "\n",
        "cur.fetchall()\n",
        "\n"
      ],
      "execution_count": 13,
      "outputs": [
        {
          "output_type": "execute_result",
          "data": {
            "text/plain": [
              "[('dockers',)]"
            ]
          },
          "metadata": {
            "tags": []
          },
          "execution_count": 13
        }
      ]
    },
    {
      "cell_type": "code",
      "metadata": {
        "id": "N2RVy0MV76Kh",
        "colab_type": "code",
        "colab": {}
      },
      "source": [
        "#closing connection \n",
        "\n",
        "conn.close()\n"
      ],
      "execution_count": 0,
      "outputs": []
    },
    {
      "cell_type": "code",
      "metadata": {
        "id": "1BhvCu1d-nra",
        "colab_type": "code",
        "colab": {}
      },
      "source": [
        ""
      ],
      "execution_count": 0,
      "outputs": []
    }
  ]
}